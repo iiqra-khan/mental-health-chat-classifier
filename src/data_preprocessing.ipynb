{
 "cells": [
  {
   "cell_type": "code",
   "execution_count": 22,
   "id": "5e235931",
   "metadata": {},
   "outputs": [],
   "source": [
    "import pandas as pd \n",
    "import numpy as np \n",
    "from bs4 import BeautifulSoup\n",
    "import unicodedata\n",
    "import contractions\n",
    "import re\n",
    "import string\n",
    "import spacy\n",
    "from tqdm import tqdm\n",
    "# import warnings\n",
    "# warnings.filterwarnings('ignore')"
   ]
  },
  {
   "cell_type": "code",
   "execution_count": 23,
   "id": "b6138a53",
   "metadata": {},
   "outputs": [],
   "source": [
    "# # removing urls\n",
    "# def remove_html_tags(text):\n",
    "#     return BeautifulSoup(text, 'html.parser').get_text()\n",
    "\n",
    "# # Standardizing Accent Characters\n",
    "# def standardize_accented_chars(text):\n",
    "#  return unicodedata.normalize('NFKD', text).encode('ascii', 'ignore').decode('utf-8', 'ignore')\n",
    "\n",
    "# # Dealing with URLs\n",
    "# def remove_url(text):\n",
    "#  return re.sub(r'https?:\\S*', '', text)\n",
    "\n",
    "# # Expanding Contractions\n",
    "# # Contractions are shortened versions of words or syllables. They are created by removing, one or more letters from words. Sometimes, multiple words are combined to create a contraction. For example, I will is contracted into I’ll, do not into don’t. Considering I will and I’ll differently might result in poor performance of the model. Hence, it’s a good practice to convert each contraction into its expanded form. We can use the contractions library to convert contractions into their expanded form.\n",
    "\n",
    "# def expand_contractions(text):\n",
    "#     expanded_words = [] \n",
    "#     for word in text.split():\n",
    "#        expanded_words.append(contractions.fix(word)) \n",
    "#     return  ' '.join(expanded_words)\n",
    "\n",
    "# # Removing mentions and hashtags\n",
    "# def remove_mentions_and_tags(text):\n",
    "#     text = re.sub(r'@\\S*', '', text)\n",
    "#     return re.sub(r'#\\S*', '', text)\n",
    "\n",
    "# # Removing Special Characters\n",
    "# def remove_special_characters(text):\n",
    "#     # define the pattern to keep\n",
    "#     pat = r'[^a-zA-z0-9.,!?/:;\\\"\\'\\s]' \n",
    "#     return re.sub(pat, '', text)\n",
    "\n",
    "# # Removing Digits\n",
    "# def remove_numbers(text):\n",
    "#     pattern = r'[^a-zA-z.,!?/:;\\\"\\'\\s]' \n",
    "#     return re.sub(pattern, '', text)\n",
    " \n",
    "# # Removing Puncuation\n",
    "# def remove_punctuation(text):\n",
    "#     return ''.join([c for c in text if c not in string.punctuation])\n",
    "\n",
    "# # Remove emoji\n",
    "# def remove_emoji(text):\n",
    "#     emoji_pattern = re.compile(\"[\"\n",
    "#                            u\"\\U0001F600-\\U0001F64F\"  # emoticons\n",
    "#                            u\"\\U0001F300-\\U0001F5FF\"  # symbols & pictographs\n",
    "#                            u\"\\U0001F680-\\U0001F6FF\"  # transport & map symbols\n",
    "#                            u\"\\U0001F1E0-\\U0001F1FF\"  # flags (iOS)\n",
    "#                            u\"\\U00002702-\\U000027B0\"\n",
    "#                            u\"\\U000024C2-\\U0001F251\"\n",
    "#                            \"]+\", flags=re.UNICODE)\n",
    "#     return emoji_pattern.sub(r'', text)\n",
    "\n",
    "\n",
    "# def lemmatize(text, nlp):\n",
    "#    doc = nlp(text)\n",
    "#    lemmatized_text = []\n",
    "#    for token in doc:\n",
    "#      lemmatized_text.append(token.lemma_)\n",
    "#    return \" \".join(lemmatized_text)\n",
    "\n",
    "\n",
    "# # def remove_stopwords(text,nlp = nlp):       \n",
    "# #     filtered_sentence =[] \n",
    "# #     doc=nlp(text)\n",
    "# #     for token in doc:\n",
    "        \n",
    "# #         if token.is_stop == False: \n",
    "# #           filtered_sentence.append(token.text)   \n",
    "# #     return ' '.join(filtered_sentence)\n",
    "\n",
    "# def remove_stopwords_bulk(texts, nlp = nlp):\n",
    "#     results = []\n",
    "#     for doc in nlp.pipe(texts, batch_size=2, n_process=-1):  # batch & multi-process\n",
    "#         filtered = [token.text for token in doc if not token.is_stop]\n",
    "#         results.append(' '.join(filtered))\n",
    "#         print(\"Results\", results)\n",
    "#     return results\n",
    "\n",
    "# # nlp = spacy.load(\"en_core_web_sm\", disable=[\"parser\", \"ner\"])\n"
   ]
  },
  {
   "cell_type": "code",
   "execution_count": 24,
   "id": "3e38820c",
   "metadata": {},
   "outputs": [],
   "source": [
    "# def clean_text(text):\n",
    "#     text = remove_emoji(text)\n",
    "#     text = remove_html_tags(text)\n",
    "#     text = remove_numbers(text)\n",
    "#     text = remove_mentions_and_tags(text)\n",
    "#     text = remove_punctuation(text)\n",
    "#     text = remove_special_characters(text)\n",
    "#     text = expand_contractions(text)\n",
    "#     text = standardize_accented_chars(text)\n",
    "#     # text = remove_stopwords(text, nlp)\n",
    "#     # text = lemmatize(text, nlp)\n",
    "\n",
    "#     return text\n",
    "    "
   ]
  },
  {
   "cell_type": "code",
   "execution_count": 25,
   "id": "6fb7d35b",
   "metadata": {},
   "outputs": [],
   "source": [
    "abbreviations = {\n",
    "    \"$\" : \" dollar \",\n",
    "    \"€\" : \" euro \",\n",
    "    \"4ao\" : \"for adults only\",\n",
    "    \"a.m\" : \"before midday\",\n",
    "    \"a3\" : \"anytime anywhere anyplace\",\n",
    "    \"aamof\" : \"as a matter of fact\",\n",
    "    \"acct\" : \"account\",\n",
    "    \"adih\" : \"another day in hell\",\n",
    "    \"afaic\" : \"as far as i am concerned\",\n",
    "    \"afaict\" : \"as far as i can tell\",\n",
    "    \"afaik\" : \"as far as i know\",\n",
    "    \"afair\" : \"as far as i remember\",\n",
    "    \"afk\" : \"away from keyboard\",\n",
    "    \"app\" : \"application\",\n",
    "    \"approx\" : \"approximately\",\n",
    "    \"apps\" : \"applications\",\n",
    "    \"asap\" : \"as soon as possible\",\n",
    "    \"asl\" : \"age, sex, location\",\n",
    "    \"atk\" : \"at the keyboard\",\n",
    "    \"ave.\" : \"avenue\",\n",
    "    \"aymm\" : \"are you my mother\",\n",
    "    \"ayor\" : \"at your own risk\", \n",
    "    \"b&b\" : \"bed and breakfast\",\n",
    "    \"b+b\" : \"bed and breakfast\",\n",
    "    \"b.c\" : \"before christ\",\n",
    "    \"b2b\" : \"business to business\",\n",
    "    \"b2c\" : \"business to customer\",\n",
    "    \"b4\" : \"before\",\n",
    "    \"b4n\" : \"bye for now\",\n",
    "    \"b@u\" : \"back at you\",\n",
    "    \"bae\" : \"before anyone else\",\n",
    "    \"bak\" : \"back at keyboard\",\n",
    "    \"bbbg\" : \"bye bye be good\",\n",
    "    \"bbc\" : \"british broadcasting corporation\",\n",
    "    \"bbias\" : \"be back in a second\",\n",
    "    \"bbl\" : \"be back later\",\n",
    "    \"bbs\" : \"be back soon\",\n",
    "    \"be4\" : \"before\",\n",
    "    \"bfn\" : \"bye for now\",\n",
    "    \"blvd\" : \"boulevard\",\n",
    "    \"bout\" : \"about\",\n",
    "    \"brb\" : \"be right back\",\n",
    "    \"bros\" : \"brothers\",\n",
    "    \"brt\" : \"be right there\",\n",
    "    \"bsaaw\" : \"big smile and a wink\",\n",
    "    \"btw\" : \"by the way\",\n",
    "    \"bwl\" : \"bursting with laughter\",\n",
    "    \"c/o\" : \"care of\",\n",
    "    \"cet\" : \"central european time\",\n",
    "    \"cf\" : \"compare\",\n",
    "    \"cia\" : \"central intelligence agency\",\n",
    "    \"csl\" : \"can not stop laughing\",\n",
    "    \"cu\" : \"see you\",\n",
    "    \"cul8r\" : \"see you later\",\n",
    "    \"cv\" : \"curriculum vitae\",\n",
    "    \"cwot\" : \"complete waste of time\",\n",
    "    \"cya\" : \"see you\",\n",
    "    \"cyt\" : \"see you tomorrow\",\n",
    "    \"dae\" : \"does anyone else\",\n",
    "    \"dbmib\" : \"do not bother me i am busy\",\n",
    "    \"diy\" : \"do it yourself\",\n",
    "    \"dm\" : \"direct message\",\n",
    "    \"dwh\" : \"during work hours\",\n",
    "    \"e123\" : \"easy as one two three\",\n",
    "    \"eet\" : \"eastern european time\",\n",
    "    \"eg\" : \"example\",\n",
    "    \"embm\" : \"early morning business meeting\",\n",
    "    \"encl\" : \"enclosed\",\n",
    "    \"encl.\" : \"enclosed\",\n",
    "    \"etc\" : \"and so on\",\n",
    "    \"faq\" : \"frequently asked questions\",\n",
    "    \"fawc\" : \"for anyone who cares\",\n",
    "    \"fb\" : \"facebook\",\n",
    "    \"fc\" : \"fingers crossed\",\n",
    "    \"fig\" : \"figure\",\n",
    "    \"fimh\" : \"forever in my heart\", \n",
    "    \"ft.\" : \"feet\",\n",
    "    \"ft\" : \"featuring\",\n",
    "    \"ftl\" : \"for the loss\",\n",
    "    \"ftw\" : \"for the win\",\n",
    "    \"fwiw\" : \"for what it is worth\",\n",
    "    \"fyi\" : \"for your information\",\n",
    "    \"g9\" : \"genius\",\n",
    "    \"gahoy\" : \"get a hold of yourself\",\n",
    "    \"gal\" : \"get a life\",\n",
    "    \"gcse\" : \"general certificate of secondary education\",\n",
    "    \"gfn\" : \"gone for now\",\n",
    "    \"gg\" : \"good game\",\n",
    "    \"gl\" : \"good luck\",\n",
    "    \"glhf\" : \"good luck have fun\",\n",
    "    \"gmt\" : \"greenwich mean time\",\n",
    "    \"gmta\" : \"great minds think alike\",\n",
    "    \"gn\" : \"good night\",\n",
    "    \"g.o.a.t\" : \"greatest of all time\",\n",
    "    \"goat\" : \"greatest of all time\",\n",
    "    \"goi\" : \"get over it\",\n",
    "    \"gps\" : \"global positioning system\",\n",
    "    \"gr8\" : \"great\",\n",
    "    \"gratz\" : \"congratulations\",\n",
    "    \"gyal\" : \"girl\",\n",
    "    \"h&c\" : \"hot and cold\",\n",
    "    \"hp\" : \"horsepower\",\n",
    "    \"hr\" : \"hour\",\n",
    "    \"hrh\" : \"his royal highness\",\n",
    "    \"ht\" : \"height\",\n",
    "    \"ibrb\" : \"i will be right back\",\n",
    "    \"ic\" : \"i see\",\n",
    "    \"icq\" : \"i seek you\",\n",
    "    \"icymi\" : \"in case you missed it\",\n",
    "    \"idc\" : \"i do not care\",\n",
    "    \"idgadf\" : \"i do not give a damn fuck\",\n",
    "    \"idgaf\" : \"i do not give a fuck\",\n",
    "    \"idk\" : \"i do not know\",\n",
    "    \"ie\" : \"that is\",\n",
    "    \"i.e\" : \"that is\",\n",
    "    \"ifyp\" : \"i feel your pain\",\n",
    "    \"IG\" : \"instagram\",\n",
    "    \"iirc\" : \"if i remember correctly\",\n",
    "    \"ilu\" : \"i love you\",\n",
    "    \"ily\" : \"i love you\",\n",
    "    \"imho\" : \"in my humble opinion\",\n",
    "    \"imo\" : \"in my opinion\",\n",
    "    \"imu\" : \"i miss you\",\n",
    "    \"iow\" : \"in other words\",\n",
    "    \"irl\" : \"in real life\",\n",
    "    \"j4f\" : \"just for fun\",\n",
    "    \"jic\" : \"just in case\",\n",
    "    \"jk\" : \"just kidding\",\n",
    "    \"jsyk\" : \"just so you know\",\n",
    "    \"l8r\" : \"later\",\n",
    "    \"lb\" : \"pound\",\n",
    "    \"lbs\" : \"pounds\",\n",
    "    \"ldr\" : \"long distance relationship\",\n",
    "    \"lmao\" : \"laugh my ass off\",\n",
    "    \"lmfao\" : \"laugh my fucking ass off\",\n",
    "    \"lol\" : \"laughing out loud\",\n",
    "    \"ltd\" : \"limited\",\n",
    "    \"ltns\" : \"long time no see\",\n",
    "    \"m8\" : \"mate\",\n",
    "    \"mf\" : \"motherfucker\",\n",
    "    \"mfs\" : \"motherfuckers\",\n",
    "    \"mfw\" : \"my face when\",\n",
    "    \"mofo\" : \"motherfucker\",\n",
    "    \"mph\" : \"miles per hour\",\n",
    "    \"mr\" : \"mister\",\n",
    "    \"mrw\" : \"my reaction when\",\n",
    "    \"ms\" : \"miss\",\n",
    "    \"mte\" : \"my thoughts exactly\",\n",
    "    \"nagi\" : \"not a good idea\",\n",
    "    \"nbc\" : \"national broadcasting company\",\n",
    "    \"nbd\" : \"not big deal\",\n",
    "    \"nfs\" : \"not for sale\",\n",
    "    \"ngl\" : \"not going to lie\",\n",
    "    \"nhs\" : \"national health service\",\n",
    "    \"nrn\" : \"no reply necessary\",\n",
    "    \"nsfl\" : \"not safe for life\",\n",
    "    \"nsfw\" : \"not safe for work\",\n",
    "    \"nth\" : \"nice to have\",\n",
    "    \"nvr\" : \"never\",\n",
    "    \"nyc\" : \"new york city\",\n",
    "    \"oc\" : \"original content\",\n",
    "    \"og\" : \"original\",\n",
    "    \"ohp\" : \"overhead projector\",\n",
    "    \"oic\" : \"oh i see\",\n",
    "    \"omdb\" : \"over my dead body\",\n",
    "    \"omg\" : \"oh my god\",\n",
    "    \"omw\" : \"on my way\",\n",
    "    \"p.a\" : \"per annum\",\n",
    "    \"p.m\" : \"after midday\",\n",
    "    \"pm\" : \"prime minister\",\n",
    "    \"poc\" : \"people of color\",\n",
    "    \"pov\" : \"point of view\",\n",
    "    \"pp\" : \"pages\",\n",
    "    \"ppl\" : \"people\",\n",
    "    \"prw\" : \"parents are watching\",\n",
    "    \"ps\" : \"postscript\",\n",
    "    \"pt\" : \"point\",\n",
    "    \"ptb\" : \"please text back\",\n",
    "    \"pto\" : \"please turn over\",\n",
    "    \"qpsa\" : \"what happens\", #\"que pasa\",\n",
    "    \"ratchet\" : \"rude\",\n",
    "    \"rbtl\" : \"read between the lines\",\n",
    "    \"rlrt\" : \"real life retweet\", \n",
    "    \"rofl\" : \"rolling on the floor laughing\",\n",
    "    \"roflol\" : \"rolling on the floor laughing out loud\",\n",
    "    \"rotflmao\" : \"rolling on the floor laughing my ass off\",\n",
    "    \"rt\" : \"retweet\",\n",
    "    \"ruok\" : \"are you ok\",\n",
    "    \"sfw\" : \"safe for work\",\n",
    "    \"sk8\" : \"skate\",\n",
    "    \"smh\" : \"shake my head\",\n",
    "    \"sq\" : \"square\",\n",
    "    \"srsly\" : \"seriously\", \n",
    "    \"ssdd\" : \"same stuff different day\",\n",
    "    \"tbh\" : \"to be honest\",\n",
    "    \"tbs\" : \"tablespooful\",\n",
    "    \"tbsp\" : \"tablespooful\",\n",
    "    \"tfw\" : \"that feeling when\",\n",
    "    \"thks\" : \"thank you\",\n",
    "    \"tho\" : \"though\",\n",
    "    \"thx\" : \"thank you\",\n",
    "    \"tia\" : \"thanks in advance\",\n",
    "    \"til\" : \"today i learned\",\n",
    "    \"tl;dr\" : \"too long i did not read\",\n",
    "    \"tldr\" : \"too long i did not read\",\n",
    "    \"tmb\" : \"tweet me back\",\n",
    "    \"tntl\" : \"trying not to laugh\",\n",
    "    \"ttyl\" : \"talk to you later\",\n",
    "    \"u\" : \"you\",\n",
    "    \"u2\" : \"you too\",\n",
    "    \"u4e\" : \"yours for ever\",\n",
    "    \"utc\" : \"coordinated universal time\",\n",
    "    \"w/\" : \"with\",\n",
    "    \"w/o\" : \"without\",\n",
    "    \"w8\" : \"wait\",\n",
    "    \"wassup\" : \"what is up\",\n",
    "    \"wb\" : \"welcome back\",\n",
    "    \"wtf\" : \"what the fuck\",\n",
    "    \"wtg\" : \"way to go\",\n",
    "    \"wtpa\" : \"where the party at\",\n",
    "    \"wuf\" : \"where are you from\",\n",
    "    \"wuzup\" : \"what is up\",\n",
    "    \"wywh\" : \"wish you were here\",\n",
    "    \"yd\" : \"yard\",\n",
    "    \"ygtr\" : \"you got that right\",\n",
    "    \"ynk\" : \"you never know\",\n",
    "    \"zzz\" : \"sleeping bored and tired\"\n",
    "}"
   ]
  },
  {
   "cell_type": "code",
   "execution_count": 26,
   "id": "713e3594",
   "metadata": {},
   "outputs": [],
   "source": [
    "# def convert_abbrev(word):\n",
    "#     return abbreviations[word.lower()] if word.lower() in abbreviations.keys() else word\n",
    "\n",
    "# def convert_abbrev_in_text(text):\n",
    "#     tokens = word_tokenize(text)\n",
    "#     tokens = [convert_abbrev(word) for word in tokens]\n",
    "#     text = ' '.join(tokens)\n",
    "#     return text"
   ]
  },
  {
   "cell_type": "code",
   "execution_count": 27,
   "id": "56631b94",
   "metadata": {},
   "outputs": [],
   "source": [
    "# Load spaCy once\n",
    "nlp = spacy.load(\"en_core_web_sm\", disable=[\"parser\", \"ner\"])\n",
    "\n",
    "# === Preprocessing Functions ===\n",
    "\n",
    "def clean_text(text):\n",
    "    if isinstance(text, tuple):\n",
    "        text = text[0]\n",
    "    text = str(text)\n",
    "    text = text.lower()\n",
    "    text = contractions.fix(text)\n",
    "    text = BeautifulSoup(text, 'html.parser').get_text()                  # Remove HTML\n",
    "    text = unicodedata.normalize('NFKD', text).encode('ascii', 'ignore').decode('utf-8', 'ignore')  # Remove accents\n",
    "    text = re.sub(r'https?:\\S*', '', text)                                # Remove URLs\n",
    "    text = re.sub(r'@\\S*|#\\S*', '', text)                                  # Remove mentions and hashtags\n",
    "    text = re.sub(r'[^a-zA-Z0-9.,!?/:;\\\"\\'\\s]', '', text)                 # Remove special characters (excluding punct)\n",
    "    text = re.sub(r'\\d+', '', text)                                       # Remove numbers\n",
    "    text = re.sub(r'[^\\w\\s]', '', text)                                   # Remove punctuation\n",
    "    text = remove_emoji(text)\n",
    "    return text\n",
    "\n",
    "def remove_emoji(text):\n",
    "    emoji_pattern = re.compile(\"[\" \n",
    "        u\"\\U0001F600-\\U0001F64F\"  # emoticons\n",
    "        u\"\\U0001F300-\\U0001F5FF\"  # symbols & pictographs\n",
    "        u\"\\U0001F680-\\U0001F6FF\"  # transport & map symbols\n",
    "        u\"\\U0001F1E0-\\U0001F1FF\"  # flags\n",
    "        u\"\\U00002702-\\U000027B0\"\n",
    "        u\"\\U000024C2-\\U0001F251\"\n",
    "        \"]+\", flags=re.UNICODE)\n",
    "    return emoji_pattern.sub(r'', text)\n",
    "\n",
    "def lemmatize_and_remove_stopwords(texts):\n",
    "    cleaned = []\n",
    "    for doc in tqdm(nlp.pipe(texts, batch_size=1000, n_process=1), total=len(texts)):\n",
    "        tokens = [token.lemma_ for token in doc if not token.is_stop and token.is_alpha and token.pos_ in {\"NOUN\", \"VERB\", \"ADJ\"}]\n",
    "        cleaned.append(\" \".join(tokens))\n",
    "    return cleaned\n"
   ]
  },
  {
   "cell_type": "code",
   "execution_count": null,
   "id": "73fb4746",
   "metadata": {},
   "outputs": [
    {
     "name": "stdout",
     "output_type": "stream",
     "text": [
      "['I → I (PRON)', 'am → be (AUX)', 'worried → worried (ADJ)', 'and → and (CCONJ)', 'confused → confuse (VERB)', '. → . (PUNCT)']\n"
     ]
    }
   ],
   "source": [
    "doc = nlp(\"I am worried and confused.\")\n",
    "print([f\"{token.text} → {token.lemma_} ({token.pos_})\" for token in doc])"
   ]
  },
  {
   "cell_type": "code",
   "execution_count": 29,
   "id": "4bb535de",
   "metadata": {},
   "outputs": [],
   "source": [
    "df = pd.read_csv(r'C:\\Users\\iqra khan\\OneDrive\\Desktop\\MSC\\mental health classifier\\Combined Data.csv\\Combined Data.csv')"
   ]
  },
  {
   "cell_type": "code",
   "execution_count": 30,
   "id": "0c47466d",
   "metadata": {},
   "outputs": [],
   "source": [
    "df_copy = df.copy()"
   ]
  },
  {
   "cell_type": "code",
   "execution_count": 31,
   "id": "830efab6",
   "metadata": {},
   "outputs": [
    {
     "data": {
      "application/vnd.microsoft.datawrangler.viewer.v0+json": {
       "columns": [
        {
         "name": "index",
         "rawType": "object",
         "type": "string"
        },
        {
         "name": "Unnamed: 0",
         "rawType": "float64",
         "type": "float"
        }
       ],
       "ref": "fdbccbd4-06d3-4cb1-8100-bda3cee15bca",
       "rows": [
        [
         "count",
         "53043.0"
        ],
        [
         "mean",
         "26521.0"
        ],
        [
         "std",
         "15312.339501199678"
        ],
        [
         "min",
         "0.0"
        ],
        [
         "25%",
         "13260.5"
        ],
        [
         "50%",
         "26521.0"
        ],
        [
         "75%",
         "39781.5"
        ],
        [
         "max",
         "53042.0"
        ]
       ],
       "shape": {
        "columns": 1,
        "rows": 8
       }
      },
      "text/html": [
       "<div>\n",
       "<style scoped>\n",
       "    .dataframe tbody tr th:only-of-type {\n",
       "        vertical-align: middle;\n",
       "    }\n",
       "\n",
       "    .dataframe tbody tr th {\n",
       "        vertical-align: top;\n",
       "    }\n",
       "\n",
       "    .dataframe thead th {\n",
       "        text-align: right;\n",
       "    }\n",
       "</style>\n",
       "<table border=\"1\" class=\"dataframe\">\n",
       "  <thead>\n",
       "    <tr style=\"text-align: right;\">\n",
       "      <th></th>\n",
       "      <th>Unnamed: 0</th>\n",
       "    </tr>\n",
       "  </thead>\n",
       "  <tbody>\n",
       "    <tr>\n",
       "      <th>count</th>\n",
       "      <td>53043.000000</td>\n",
       "    </tr>\n",
       "    <tr>\n",
       "      <th>mean</th>\n",
       "      <td>26521.000000</td>\n",
       "    </tr>\n",
       "    <tr>\n",
       "      <th>std</th>\n",
       "      <td>15312.339501</td>\n",
       "    </tr>\n",
       "    <tr>\n",
       "      <th>min</th>\n",
       "      <td>0.000000</td>\n",
       "    </tr>\n",
       "    <tr>\n",
       "      <th>25%</th>\n",
       "      <td>13260.500000</td>\n",
       "    </tr>\n",
       "    <tr>\n",
       "      <th>50%</th>\n",
       "      <td>26521.000000</td>\n",
       "    </tr>\n",
       "    <tr>\n",
       "      <th>75%</th>\n",
       "      <td>39781.500000</td>\n",
       "    </tr>\n",
       "    <tr>\n",
       "      <th>max</th>\n",
       "      <td>53042.000000</td>\n",
       "    </tr>\n",
       "  </tbody>\n",
       "</table>\n",
       "</div>"
      ],
      "text/plain": [
       "         Unnamed: 0\n",
       "count  53043.000000\n",
       "mean   26521.000000\n",
       "std    15312.339501\n",
       "min        0.000000\n",
       "25%    13260.500000\n",
       "50%    26521.000000\n",
       "75%    39781.500000\n",
       "max    53042.000000"
      ]
     },
     "execution_count": 31,
     "metadata": {},
     "output_type": "execute_result"
    }
   ],
   "source": [
    "df_copy.describe()"
   ]
  },
  {
   "cell_type": "code",
   "execution_count": 32,
   "id": "f900e4ca",
   "metadata": {},
   "outputs": [
    {
     "name": "stdout",
     "output_type": "stream",
     "text": [
      "<class 'pandas.core.frame.DataFrame'>\n",
      "RangeIndex: 53043 entries, 0 to 53042\n",
      "Data columns (total 3 columns):\n",
      " #   Column      Non-Null Count  Dtype \n",
      "---  ------      --------------  ----- \n",
      " 0   Unnamed: 0  53043 non-null  int64 \n",
      " 1   statement   52681 non-null  object\n",
      " 2   status      53043 non-null  object\n",
      "dtypes: int64(1), object(2)\n",
      "memory usage: 1.2+ MB\n"
     ]
    }
   ],
   "source": [
    "df_copy.info()"
   ]
  },
  {
   "cell_type": "code",
   "execution_count": 33,
   "id": "fa8858b5",
   "metadata": {},
   "outputs": [
    {
     "name": "stdout",
     "output_type": "stream",
     "text": [
      "<class 'pandas.core.frame.DataFrame'>\n",
      "Index: 52681 entries, 0 to 53042\n",
      "Data columns (total 3 columns):\n",
      " #   Column      Non-Null Count  Dtype \n",
      "---  ------      --------------  ----- \n",
      " 0   Unnamed: 0  52681 non-null  int64 \n",
      " 1   statement   52681 non-null  object\n",
      " 2   status      52681 non-null  object\n",
      "dtypes: int64(1), object(2)\n",
      "memory usage: 1.6+ MB\n"
     ]
    }
   ],
   "source": [
    "df_copy = df_copy.dropna()\n",
    "df_copy.info()"
   ]
  },
  {
   "cell_type": "code",
   "execution_count": 34,
   "id": "19a970a1",
   "metadata": {},
   "outputs": [
    {
     "data": {
      "application/vnd.microsoft.datawrangler.viewer.v0+json": {
       "columns": [
        {
         "name": "index",
         "rawType": "int64",
         "type": "integer"
        },
        {
         "name": "Unnamed: 0",
         "rawType": "int64",
         "type": "integer"
        },
        {
         "name": "statement",
         "rawType": "object",
         "type": "string"
        },
        {
         "name": "status",
         "rawType": "object",
         "type": "string"
        }
       ],
       "ref": "2607bde5-3b3c-4b56-becc-e2711708d35d",
       "rows": [
        [
         "0",
         "0",
         "oh my gosh",
         "Anxiety"
        ],
        [
         "1",
         "1",
         "trouble sleeping, confused mind, restless heart. All out of tune",
         "Anxiety"
        ],
        [
         "2",
         "2",
         "All wrong, back off dear, forward doubt. Stay in a restless and restless place",
         "Anxiety"
        ],
        [
         "3",
         "3",
         "I've shifted my focus to something else but I'm still worried",
         "Anxiety"
        ],
        [
         "4",
         "4",
         "I'm restless and restless, it's been a month now, boy. What do you mean?",
         "Anxiety"
        ],
        [
         "5",
         "5",
         "every break, you must be nervous, like something is wrong, but what the heck",
         "Anxiety"
        ],
        [
         "6",
         "6",
         "I feel scared, anxious, what can I do? And may my family or us be protected :)",
         "Anxiety"
        ],
        [
         "7",
         "7",
         "Have you ever felt nervous but didn't know why?",
         "Anxiety"
        ],
        [
         "8",
         "8",
         "I haven't slept well for 2 days, it's like I'm restless. why huh :([].",
         "Anxiety"
        ],
        [
         "9",
         "9",
         "I'm really worried, I want to cry.",
         "Anxiety"
        ],
        [
         "10",
         "10",
         "always restless every night, even though I don't know why, what's wrong. strange.",
         "Anxiety"
        ],
        [
         "11",
         "11",
         "I'm confused, I'm not feeling good lately. Every time I want to sleep, I always feel restless",
         "Anxiety"
        ],
        [
         "12",
         "12",
         "sometimes what is needed when there is a problem is to laugh until you forget that there is a problem, when you remember it, you feel restless like that well, it turns out that I still have a sad burden blah blah blah",
         "Anxiety"
        ],
        [
         "13",
         "13",
         "Because this worry is you.",
         "Anxiety"
        ],
        [
         "14",
         "14",
         "Sometimes it's your own thoughts that make you anxious and afraid to close your eyes until you don't sleep",
         "Anxiety"
        ],
        [
         "15",
         "15",
         "Every time I wake up, I'm definitely nervous and excited, until when are you going to try ™‚",
         "Anxiety"
        ],
        [
         "16",
         "16",
         "I can only hope, even though I'm worried if it starts like this....",
         "Anxiety"
        ],
        [
         "17",
         "17",
         "restive = restless, restless",
         "Anxiety"
        ],
        [
         "18",
         "18",
         "\"No regrets or grudges/angry at things that have passed, and not worrying too much about the future, that's true serenity.\"",
         "Anxiety"
        ],
        [
         "19",
         "19",
         "If the guy is sick, the girl actually feels sick indirectly. He must be feeling restless and restless. :')",
         "Anxiety"
        ],
        [
         "20",
         "20",
         "I've been the most anxious person before I became the most sincere person, I've also been the most worried person before it all ended",
         "Anxiety"
        ],
        [
         "21",
         "21",
         "Successfully online at 9am. Even sleeping in a state of restlessness what is wrong with me",
         "Anxiety"
        ],
        [
         "22",
         "22",
         "Can't sleep. Just restless by nature",
         "Anxiety"
        ],
        [
         "23",
         "23",
         "Already worried about picking up the phone",
         "Anxiety"
        ],
        [
         "24",
         "24",
         "a little restless. a little restless. always feel guilty. sorry if i can't be the best as i've been :'",
         "Anxiety"
        ],
        [
         "25",
         "25",
         "I've been so restless since this morning",
         "Anxiety"
        ],
        [
         "26",
         "26",
         "it makes you feel restless",
         "Anxiety"
        ],
        [
         "27",
         "27",
         "Sleepy but restless when you sleep",
         "Anxiety"
        ],
        [
         "28",
         "28",
         "Why is this cave... I'm already in a bad mood and then my heart seems to be beating really fast... I'm really nervous. Is there something wrong???",
         "Anxiety"
        ],
        [
         "29",
         "29",
         "He is very busy, He is restless, geez, what's going on?",
         "Anxiety"
        ],
        [
         "30",
         "30",
         "I'm broken and fragile, I'm hurt, I can't stand the anxiety anymore, I can't stand the love. Until now I was ignored, not seen, even left far away. I'm not like what he wants, so I'll just step back.",
         "Anxiety"
        ],
        [
         "31",
         "31",
         "# Suggest a song that makes you calm, don't know why suddenly this feeling of anger / restlessness appears. Thanks!",
         "Anxiety"
        ],
        [
         "32",
         "32",
         "Terooosss nervous huuuu",
         "Anxiety"
        ],
        [
         "33",
         "33",
         "why today's heart doesn't feel good..jealous?.anxious?.disappointed?.feeling failed?",
         "Anxiety"
        ],
        [
         "34",
         "34",
         "It's a habit from elementary school if I think about something I'll get worried I can't sleep",
         "Anxiety"
        ],
        [
         "35",
         "35",
         "Since yesterday yesterday, I have not been in the mood, very sensitive, feeling restless, always surprised and many surprises every day that almost make my brain explode, everyone is the target of ups and downs in mood. But today I feel very grateful that this lecture drama is over.",
         "Anxiety"
        ],
        [
         "36",
         "36",
         "Tonight he continues to chatter about money, I'm so confused what to do. Once he said don't worry about money, but he kept blabbering about money.",
         "Anxiety"
        ],
        [
         "37",
         "37",
         "Feeling so restless lately.",
         "Anxiety"
        ],
        [
         "38",
         "38",
         "Oh god I'm restless",
         "Anxiety"
        ],
        [
         "39",
         "39",
         "but my heart is still restless even though my mouth is talking",
         "Anxiety"
        ],
        [
         "40",
         "40",
         "waiting for uncertainty, please be anxious",
         "Anxiety"
        ],
        [
         "41",
         "41",
         "been the most anxious person, before becoming the most sincere person",
         "Anxiety"
        ],
        [
         "42",
         "42",
         "Did you ever read it when you read it to RL, I mean the atmosphere, the taste. It's because I'm like this. when I read au, the topic was about mental illness ™ my days became restless....and now I'm scared.",
         "Anxiety"
        ],
        [
         "43",
         "43",
         "Hi, I want to tell you... Lately I've been feeling restless, have trouble sleeping, I searched on google it says it's a mild symptom of depression, I used to tell my mom a psychologist friend \"don't think too much, it's not important you get depressed easily\" then I frequent irregular breathing.",
         "Anxiety"
        ],
        [
         "44",
         "44",
         "I've been feeling restless for the past few days, now I'm nauseous, like someone...",
         "Anxiety"
        ],
        [
         "45",
         "45",
         "Oh no I'm restless. The time will come. I walk with Jesus. Then my heart is calm.. Every time I sing a song I don't know, tomorrow in this section I always want to cry . Because I sing it but I don't do it . Sorry God I worry too much ️",
         "Anxiety"
        ],
        [
         "46",
         "46",
         "Controlling anxiety is not as easy as it sounds.",
         "Anxiety"
        ],
        [
         "47",
         "47",
         "Since the pandemic, I haven't opened my laptop for a day, I feel restless, I have a very heavy life load",
         "Anxiety"
        ],
        [
         "48",
         "48",
         "People who are restless and afraid can be seen from the frequent touching of the face and ringing the fingers.",
         "Anxiety"
        ],
        [
         "49",
         "49",
         "I don't know if my mind breaks down, but I don't want to think about it :( , why do I feel restless?",
         "Anxiety"
        ]
       ],
       "shape": {
        "columns": 3,
        "rows": 52681
       }
      },
      "text/html": [
       "<div>\n",
       "<style scoped>\n",
       "    .dataframe tbody tr th:only-of-type {\n",
       "        vertical-align: middle;\n",
       "    }\n",
       "\n",
       "    .dataframe tbody tr th {\n",
       "        vertical-align: top;\n",
       "    }\n",
       "\n",
       "    .dataframe thead th {\n",
       "        text-align: right;\n",
       "    }\n",
       "</style>\n",
       "<table border=\"1\" class=\"dataframe\">\n",
       "  <thead>\n",
       "    <tr style=\"text-align: right;\">\n",
       "      <th></th>\n",
       "      <th>Unnamed: 0</th>\n",
       "      <th>statement</th>\n",
       "      <th>status</th>\n",
       "    </tr>\n",
       "  </thead>\n",
       "  <tbody>\n",
       "    <tr>\n",
       "      <th>0</th>\n",
       "      <td>0</td>\n",
       "      <td>oh my gosh</td>\n",
       "      <td>Anxiety</td>\n",
       "    </tr>\n",
       "    <tr>\n",
       "      <th>1</th>\n",
       "      <td>1</td>\n",
       "      <td>trouble sleeping, confused mind, restless hear...</td>\n",
       "      <td>Anxiety</td>\n",
       "    </tr>\n",
       "    <tr>\n",
       "      <th>2</th>\n",
       "      <td>2</td>\n",
       "      <td>All wrong, back off dear, forward doubt. Stay ...</td>\n",
       "      <td>Anxiety</td>\n",
       "    </tr>\n",
       "    <tr>\n",
       "      <th>3</th>\n",
       "      <td>3</td>\n",
       "      <td>I've shifted my focus to something else but I'...</td>\n",
       "      <td>Anxiety</td>\n",
       "    </tr>\n",
       "    <tr>\n",
       "      <th>4</th>\n",
       "      <td>4</td>\n",
       "      <td>I'm restless and restless, it's been a month n...</td>\n",
       "      <td>Anxiety</td>\n",
       "    </tr>\n",
       "    <tr>\n",
       "      <th>...</th>\n",
       "      <td>...</td>\n",
       "      <td>...</td>\n",
       "      <td>...</td>\n",
       "    </tr>\n",
       "    <tr>\n",
       "      <th>53038</th>\n",
       "      <td>53038</td>\n",
       "      <td>Nobody takes me seriously I’ve (24M) dealt wit...</td>\n",
       "      <td>Anxiety</td>\n",
       "    </tr>\n",
       "    <tr>\n",
       "      <th>53039</th>\n",
       "      <td>53039</td>\n",
       "      <td>selfishness  \"I don't feel very good, it's lik...</td>\n",
       "      <td>Anxiety</td>\n",
       "    </tr>\n",
       "    <tr>\n",
       "      <th>53040</th>\n",
       "      <td>53040</td>\n",
       "      <td>Is there any way to sleep better? I can't slee...</td>\n",
       "      <td>Anxiety</td>\n",
       "    </tr>\n",
       "    <tr>\n",
       "      <th>53041</th>\n",
       "      <td>53041</td>\n",
       "      <td>Public speaking tips? Hi, all. I have to give ...</td>\n",
       "      <td>Anxiety</td>\n",
       "    </tr>\n",
       "    <tr>\n",
       "      <th>53042</th>\n",
       "      <td>53042</td>\n",
       "      <td>I have really bad door anxiety! It's not about...</td>\n",
       "      <td>Anxiety</td>\n",
       "    </tr>\n",
       "  </tbody>\n",
       "</table>\n",
       "<p>52681 rows × 3 columns</p>\n",
       "</div>"
      ],
      "text/plain": [
       "       Unnamed: 0                                          statement   status\n",
       "0               0                                         oh my gosh  Anxiety\n",
       "1               1  trouble sleeping, confused mind, restless hear...  Anxiety\n",
       "2               2  All wrong, back off dear, forward doubt. Stay ...  Anxiety\n",
       "3               3  I've shifted my focus to something else but I'...  Anxiety\n",
       "4               4  I'm restless and restless, it's been a month n...  Anxiety\n",
       "...           ...                                                ...      ...\n",
       "53038       53038  Nobody takes me seriously I’ve (24M) dealt wit...  Anxiety\n",
       "53039       53039  selfishness  \"I don't feel very good, it's lik...  Anxiety\n",
       "53040       53040  Is there any way to sleep better? I can't slee...  Anxiety\n",
       "53041       53041  Public speaking tips? Hi, all. I have to give ...  Anxiety\n",
       "53042       53042  I have really bad door anxiety! It's not about...  Anxiety\n",
       "\n",
       "[52681 rows x 3 columns]"
      ]
     },
     "execution_count": 34,
     "metadata": {},
     "output_type": "execute_result"
    }
   ],
   "source": [
    "df_copy"
   ]
  },
  {
   "cell_type": "code",
   "execution_count": 35,
   "id": "e494be29",
   "metadata": {},
   "outputs": [
    {
     "name": "stderr",
     "output_type": "stream",
     "text": [
      "C:\\Users\\iqra khan\\AppData\\Local\\Temp\\ipykernel_14996\\2666668199.py:12: MarkupResemblesLocatorWarning: The input looks more like a filename than markup. You may want to open this file and pass the filehandle into Beautiful Soup.\n",
      "  text = BeautifulSoup(text, 'html.parser').get_text()                  # Remove HTML\n"
     ]
    }
   ],
   "source": [
    "df_copy.loc[:, 'statement'] = df_copy['statement'].apply(clean_text)"
   ]
  },
  {
   "cell_type": "code",
   "execution_count": 36,
   "id": "d1bfbb86",
   "metadata": {},
   "outputs": [
    {
     "data": {
      "application/vnd.microsoft.datawrangler.viewer.v0+json": {
       "columns": [
        {
         "name": "index",
         "rawType": "int64",
         "type": "integer"
        },
        {
         "name": "Unnamed: 0",
         "rawType": "int64",
         "type": "integer"
        },
        {
         "name": "statement",
         "rawType": "object",
         "type": "string"
        },
        {
         "name": "status",
         "rawType": "object",
         "type": "string"
        }
       ],
       "ref": "bf082bfb-a301-4458-abe9-b4b27f2421ad",
       "rows": [
        [
         "0",
         "0",
         "oh my gosh",
         "Anxiety"
        ],
        [
         "1",
         "1",
         "trouble sleeping confused mind restless heart all out of tune",
         "Anxiety"
        ],
        [
         "2",
         "2",
         "all wrong back off dear forward doubt stay in a restless and restless place",
         "Anxiety"
        ],
        [
         "3",
         "3",
         "i have shifted my focus to something else but i am still worried",
         "Anxiety"
        ],
        [
         "4",
         "4",
         "i am restless and restless it is been a month now boy what do you mean",
         "Anxiety"
        ],
        [
         "5",
         "5",
         "every break you must be nervous like something is wrong but what the heck",
         "Anxiety"
        ],
        [
         "6",
         "6",
         "i feel scared anxious what can i do and may my family or us be protected ",
         "Anxiety"
        ],
        [
         "7",
         "7",
         "have you ever felt nervous but did not know why",
         "Anxiety"
        ],
        [
         "8",
         "8",
         "i have not slept well for  days it is like i am restless why huh ",
         "Anxiety"
        ],
        [
         "9",
         "9",
         "i am really worried i want to cry",
         "Anxiety"
        ],
        [
         "10",
         "10",
         "always restless every night even though i do not know why what is wrong strange",
         "Anxiety"
        ],
        [
         "11",
         "11",
         "i am confused i am not feeling good lately every time i want to sleep i always feel restless",
         "Anxiety"
        ],
        [
         "12",
         "12",
         "sometimes what is needed when there is a problem is to laugh until you forget that there is a problem when you remember it you feel restless like that well it turns out that i still have a sad burden blah blah blah",
         "Anxiety"
        ],
        [
         "13",
         "13",
         "because this worry is you",
         "Anxiety"
        ],
        [
         "14",
         "14",
         "sometimes it is your own thoughts that make you anxious and afraid to close your eyes until you do not sleep",
         "Anxiety"
        ],
        [
         "15",
         "15",
         "every time i wake up i am definitely nervous and excited until when are you going to try TM",
         "Anxiety"
        ],
        [
         "16",
         "16",
         "i can only hope even though i am worried if it starts like this",
         "Anxiety"
        ],
        [
         "17",
         "17",
         "restive  restless restless",
         "Anxiety"
        ],
        [
         "18",
         "18",
         "no regrets or grudgesangry at things that have passed and not worrying too much about the future that is true serenity",
         "Anxiety"
        ],
        [
         "19",
         "19",
         "if the guy is sick the girl actually feels sick indirectly he must be feeling restless and restless ",
         "Anxiety"
        ],
        [
         "20",
         "20",
         "i have been the most anxious person before i became the most sincere person i have also been the most worried person before it all ended",
         "Anxiety"
        ],
        [
         "21",
         "21",
         "successfully online at am even sleeping in a state of restlessness what is wrong with me",
         "Anxiety"
        ],
        [
         "22",
         "22",
         "cannot sleep just restless by nature",
         "Anxiety"
        ],
        [
         "23",
         "23",
         "already worried about picking up the phone",
         "Anxiety"
        ],
        [
         "24",
         "24",
         "a little restless a little restless always feel guilty sorry if i cannot be the best as i have been ",
         "Anxiety"
        ],
        [
         "25",
         "25",
         "i have been so restless since this morning",
         "Anxiety"
        ],
        [
         "26",
         "26",
         "it makes you feel restless",
         "Anxiety"
        ],
        [
         "27",
         "27",
         "sleepy but restless when you sleep",
         "Anxiety"
        ],
        [
         "28",
         "28",
         "why is this cave i am already in a bad mood and then my heart seems to be beating really fast i am really nervous is there something wrong",
         "Anxiety"
        ],
        [
         "29",
         "29",
         "he is very busy he is restless geez what is going on",
         "Anxiety"
        ],
        [
         "30",
         "30",
         "i am broken and fragile i am hurt i cannot stand the anxiety anymore i cannot stand the love until now i was ignored not seen even left far away i am not like what he wants so i will just step back",
         "Anxiety"
        ],
        [
         "31",
         "31",
         " suggest a song that makes you calm do not know why suddenly this feeling of anger  restlessness appears thanks",
         "Anxiety"
        ],
        [
         "32",
         "32",
         "terooosss nervous huuuu",
         "Anxiety"
        ],
        [
         "33",
         "33",
         "why todays heart does not feel goodjealousanxiousdisappointedfeeling failed",
         "Anxiety"
        ],
        [
         "34",
         "34",
         "it is a habit from elementary school if i think about something i will get worried i cannot sleep",
         "Anxiety"
        ],
        [
         "35",
         "35",
         "since yesterday yesterday i have not been in the mood very sensitive feeling restless always surprised and many surprises every day that almost make my brain explode everyone is the target of ups and downs in mood but today i feel very grateful that this lecture drama is over",
         "Anxiety"
        ],
        [
         "36",
         "36",
         "tonight he continues to chatter about money i am so confused what to do once he said do not worry about money but he kept blabbering about money",
         "Anxiety"
        ],
        [
         "37",
         "37",
         "feeling so restless lately",
         "Anxiety"
        ],
        [
         "38",
         "38",
         "oh god i am restless",
         "Anxiety"
        ],
        [
         "39",
         "39",
         "but my heart is still restless even though my mouth is talking",
         "Anxiety"
        ],
        [
         "40",
         "40",
         "waiting for uncertainty please be anxious",
         "Anxiety"
        ],
        [
         "41",
         "41",
         "been the most anxious person before becoming the most sincere person",
         "Anxiety"
        ],
        [
         "42",
         "42",
         "did you ever read it when you read it to rl i mean the atmosphere the taste it is because i am like this when i read au the topic was about mental illness TM my days became restlessand now i am scared",
         "Anxiety"
        ],
        [
         "43",
         "43",
         "hi i want to tell you lately i have been feeling restless have trouble sleeping i searched on google it says it is a mild symptom of depression i used to tell my mom a psychologist friend do not think too much it is not important you get depressed easily then i frequent irregular breathing",
         "Anxiety"
        ],
        [
         "44",
         "44",
         "i have been feeling restless for the past few days now i am nauseous like someone",
         "Anxiety"
        ],
        [
         "45",
         "45",
         "oh no i am restless the time will come i walk with jesus then my heart is calm every time i sing a song i do not know tomorrow in this section i always want to cry  because i sing it but i do not do it  sorry god i worry too much ",
         "Anxiety"
        ],
        [
         "46",
         "46",
         "controlling anxiety is not as easy as it sounds",
         "Anxiety"
        ],
        [
         "47",
         "47",
         "since the pandemic i have not opened my laptop for a day i feel restless i have a very heavy life load",
         "Anxiety"
        ],
        [
         "48",
         "48",
         "people who are restless and afraid can be seen from the frequent touching of the face and ringing the fingers",
         "Anxiety"
        ],
        [
         "49",
         "49",
         "i do not know if my mind breaks down but i do not want to think about it   why do i feel restless",
         "Anxiety"
        ]
       ],
       "shape": {
        "columns": 3,
        "rows": 52681
       }
      },
      "text/html": [
       "<div>\n",
       "<style scoped>\n",
       "    .dataframe tbody tr th:only-of-type {\n",
       "        vertical-align: middle;\n",
       "    }\n",
       "\n",
       "    .dataframe tbody tr th {\n",
       "        vertical-align: top;\n",
       "    }\n",
       "\n",
       "    .dataframe thead th {\n",
       "        text-align: right;\n",
       "    }\n",
       "</style>\n",
       "<table border=\"1\" class=\"dataframe\">\n",
       "  <thead>\n",
       "    <tr style=\"text-align: right;\">\n",
       "      <th></th>\n",
       "      <th>Unnamed: 0</th>\n",
       "      <th>statement</th>\n",
       "      <th>status</th>\n",
       "    </tr>\n",
       "  </thead>\n",
       "  <tbody>\n",
       "    <tr>\n",
       "      <th>0</th>\n",
       "      <td>0</td>\n",
       "      <td>oh my gosh</td>\n",
       "      <td>Anxiety</td>\n",
       "    </tr>\n",
       "    <tr>\n",
       "      <th>1</th>\n",
       "      <td>1</td>\n",
       "      <td>trouble sleeping confused mind restless heart ...</td>\n",
       "      <td>Anxiety</td>\n",
       "    </tr>\n",
       "    <tr>\n",
       "      <th>2</th>\n",
       "      <td>2</td>\n",
       "      <td>all wrong back off dear forward doubt stay in ...</td>\n",
       "      <td>Anxiety</td>\n",
       "    </tr>\n",
       "    <tr>\n",
       "      <th>3</th>\n",
       "      <td>3</td>\n",
       "      <td>i have shifted my focus to something else but ...</td>\n",
       "      <td>Anxiety</td>\n",
       "    </tr>\n",
       "    <tr>\n",
       "      <th>4</th>\n",
       "      <td>4</td>\n",
       "      <td>i am restless and restless it is been a month ...</td>\n",
       "      <td>Anxiety</td>\n",
       "    </tr>\n",
       "    <tr>\n",
       "      <th>...</th>\n",
       "      <td>...</td>\n",
       "      <td>...</td>\n",
       "      <td>...</td>\n",
       "    </tr>\n",
       "    <tr>\n",
       "      <th>53038</th>\n",
       "      <td>53038</td>\n",
       "      <td>nobody takes me seriously i have m dealt with ...</td>\n",
       "      <td>Anxiety</td>\n",
       "    </tr>\n",
       "    <tr>\n",
       "      <th>53039</th>\n",
       "      <td>53039</td>\n",
       "      <td>selfishness  i do not feel very good it is lik...</td>\n",
       "      <td>Anxiety</td>\n",
       "    </tr>\n",
       "    <tr>\n",
       "      <th>53040</th>\n",
       "      <td>53040</td>\n",
       "      <td>is there any way to sleep better i cannot slee...</td>\n",
       "      <td>Anxiety</td>\n",
       "    </tr>\n",
       "    <tr>\n",
       "      <th>53041</th>\n",
       "      <td>53041</td>\n",
       "      <td>public speaking tips hi all i have to give a p...</td>\n",
       "      <td>Anxiety</td>\n",
       "    </tr>\n",
       "    <tr>\n",
       "      <th>53042</th>\n",
       "      <td>53042</td>\n",
       "      <td>i have really bad door anxiety it is not about...</td>\n",
       "      <td>Anxiety</td>\n",
       "    </tr>\n",
       "  </tbody>\n",
       "</table>\n",
       "<p>52681 rows × 3 columns</p>\n",
       "</div>"
      ],
      "text/plain": [
       "       Unnamed: 0                                          statement   status\n",
       "0               0                                         oh my gosh  Anxiety\n",
       "1               1  trouble sleeping confused mind restless heart ...  Anxiety\n",
       "2               2  all wrong back off dear forward doubt stay in ...  Anxiety\n",
       "3               3  i have shifted my focus to something else but ...  Anxiety\n",
       "4               4  i am restless and restless it is been a month ...  Anxiety\n",
       "...           ...                                                ...      ...\n",
       "53038       53038  nobody takes me seriously i have m dealt with ...  Anxiety\n",
       "53039       53039  selfishness  i do not feel very good it is lik...  Anxiety\n",
       "53040       53040  is there any way to sleep better i cannot slee...  Anxiety\n",
       "53041       53041  public speaking tips hi all i have to give a p...  Anxiety\n",
       "53042       53042  i have really bad door anxiety it is not about...  Anxiety\n",
       "\n",
       "[52681 rows x 3 columns]"
      ]
     },
     "execution_count": 36,
     "metadata": {},
     "output_type": "execute_result"
    }
   ],
   "source": [
    "df_copy"
   ]
  },
  {
   "cell_type": "code",
   "execution_count": 37,
   "id": "36a5f028",
   "metadata": {},
   "outputs": [],
   "source": [
    "df_copy.loc[:, 'statement'] = df_copy['statement'].apply(remove_emoji)"
   ]
  },
  {
   "cell_type": "code",
   "execution_count": 38,
   "id": "232ca61d",
   "metadata": {},
   "outputs": [],
   "source": [
    "# import time \n",
    "# start_time = time.time()\n",
    "# cleaned_texts = lemmatize_and_remove_stopwords(sample_texts)\n",
    "# end_time = time.time()"
   ]
  },
  {
   "cell_type": "code",
   "execution_count": null,
   "id": "f5d51200",
   "metadata": {},
   "outputs": [
    {
     "name": "stderr",
     "output_type": "stream",
     "text": [
      "  0%|          | 0/52681 [00:00<?, ?it/s]"
     ]
    },
    {
     "name": "stderr",
     "output_type": "stream",
     "text": [
      "100%|██████████| 52681/52681 [27:08<00:00, 32.35it/s]   \n"
     ]
    }
   ],
   "source": [
    "df_copy['cleaned_statement'] = lemmatize_and_remove_stopwords(df_copy['statement'].tolist())"
   ]
  },
  {
   "cell_type": "code",
   "execution_count": 40,
   "id": "9900efd3",
   "metadata": {},
   "outputs": [
    {
     "data": {
      "application/vnd.microsoft.datawrangler.viewer.v0+json": {
       "columns": [
        {
         "name": "index",
         "rawType": "int64",
         "type": "integer"
        },
        {
         "name": "Unnamed: 0",
         "rawType": "int64",
         "type": "integer"
        },
        {
         "name": "statement",
         "rawType": "object",
         "type": "string"
        },
        {
         "name": "status",
         "rawType": "object",
         "type": "string"
        },
        {
         "name": "cleaned_statement",
         "rawType": "object",
         "type": "string"
        }
       ],
       "ref": "dd467079-ac9d-4a47-972e-937c133dec1a",
       "rows": [
        [
         "0",
         "0",
         "oh my gosh",
         "Anxiety",
         ""
        ],
        [
         "1",
         "1",
         "trouble sleeping confused mind restless heart all out of tune",
         "Anxiety",
         "trouble sleep confused mind restless heart tune"
        ],
        [
         "2",
         "2",
         "all wrong back off dear forward doubt stay in a restless and restless place",
         "Anxiety",
         "wrong dear doubt stay restless restless place"
        ],
        [
         "3",
         "3",
         "i have shifted my focus to something else but i am still worried",
         "Anxiety",
         "shift focus worried"
        ],
        [
         "4",
         "4",
         "i am restless and restless it is been a month now boy what do you mean",
         "Anxiety",
         "restless restless month mean"
        ],
        [
         "5",
         "5",
         "every break you must be nervous like something is wrong but what the heck",
         "Anxiety",
         "break nervous wrong heck"
        ],
        [
         "6",
         "6",
         "i feel scared anxious what can i do and may my family or us be protected ",
         "Anxiety",
         "feel scared anxious family protect"
        ],
        [
         "7",
         "7",
         "have you ever felt nervous but did not know why",
         "Anxiety",
         "feel nervous know"
        ],
        [
         "8",
         "8",
         "i have not slept well for  days it is like i am restless why huh ",
         "Anxiety",
         "sleep day restless"
        ],
        [
         "9",
         "9",
         "i am really worried i want to cry",
         "Anxiety",
         "worried want cry"
        ],
        [
         "10",
         "10",
         "always restless every night even though i do not know why what is wrong strange",
         "Anxiety",
         "restless night know wrong strange"
        ],
        [
         "11",
         "11",
         "i am confused i am not feeling good lately every time i want to sleep i always feel restless",
         "Anxiety",
         "confused feel good time want sleep feel restless"
        ],
        [
         "12",
         "12",
         "sometimes what is needed when there is a problem is to laugh until you forget that there is a problem when you remember it you feel restless like that well it turns out that i still have a sad burden blah blah blah",
         "Anxiety",
         "need problem laugh forget problem remember feel restless turn sad burden"
        ],
        [
         "13",
         "13",
         "because this worry is you",
         "Anxiety",
         "worry"
        ],
        [
         "14",
         "14",
         "sometimes it is your own thoughts that make you anxious and afraid to close your eyes until you do not sleep",
         "Anxiety",
         "thought anxious afraid close eye sleep"
        ],
        [
         "15",
         "15",
         "every time i wake up i am definitely nervous and excited until when are you going to try TM",
         "Anxiety",
         "time wake nervous excited go try"
        ],
        [
         "16",
         "16",
         "i can only hope even though i am worried if it starts like this",
         "Anxiety",
         "hope worried start"
        ],
        [
         "17",
         "17",
         "restive  restless restless",
         "Anxiety",
         "restive restless restless"
        ],
        [
         "18",
         "18",
         "no regrets or grudgesangry at things that have passed and not worrying too much about the future that is true serenity",
         "Anxiety",
         "regret grudgesangry thing pass worry future true serenity"
        ],
        [
         "19",
         "19",
         "if the guy is sick the girl actually feels sick indirectly he must be feeling restless and restless ",
         "Anxiety",
         "guy sick girl feel sick feel restless restless"
        ],
        [
         "20",
         "20",
         "i have been the most anxious person before i became the most sincere person i have also been the most worried person before it all ended",
         "Anxiety",
         "anxious person sincere person worried person end"
        ],
        [
         "21",
         "21",
         "successfully online at am even sleeping in a state of restlessness what is wrong with me",
         "Anxiety",
         "sleep state restlessness wrong"
        ],
        [
         "22",
         "22",
         "cannot sleep just restless by nature",
         "Anxiety",
         "sleep restless nature"
        ],
        [
         "23",
         "23",
         "already worried about picking up the phone",
         "Anxiety",
         "worried pick phone"
        ],
        [
         "24",
         "24",
         "a little restless a little restless always feel guilty sorry if i cannot be the best as i have been ",
         "Anxiety",
         "little restless little restless feel guilty sorry good"
        ],
        [
         "25",
         "25",
         "i have been so restless since this morning",
         "Anxiety",
         "restless morning"
        ],
        [
         "26",
         "26",
         "it makes you feel restless",
         "Anxiety",
         "make feel restless"
        ],
        [
         "27",
         "27",
         "sleepy but restless when you sleep",
         "Anxiety",
         "sleepy restless sleep"
        ],
        [
         "28",
         "28",
         "why is this cave i am already in a bad mood and then my heart seems to be beating really fast i am really nervous is there something wrong",
         "Anxiety",
         "cave bad mood heart beat nervous wrong"
        ],
        [
         "29",
         "29",
         "he is very busy he is restless geez what is going on",
         "Anxiety",
         "busy restless geez go"
        ],
        [
         "30",
         "30",
         "i am broken and fragile i am hurt i cannot stand the anxiety anymore i cannot stand the love until now i was ignored not seen even left far away i am not like what he wants so i will just step back",
         "Anxiety",
         "break fragile hurt stand anxiety stand love ignore see leave want step"
        ],
        [
         "31",
         "31",
         " suggest a song that makes you calm do not know why suddenly this feeling of anger  restlessness appears thanks",
         "Anxiety",
         "suggest song make calm know feeling anger restlessness appear thank"
        ],
        [
         "32",
         "32",
         "terooosss nervous huuuu",
         "Anxiety",
         "huuuu"
        ],
        [
         "33",
         "33",
         "why todays heart does not feel goodjealousanxiousdisappointedfeeling failed",
         "Anxiety",
         "today heart feel goodjealousanxiousdisappointedfeele fail"
        ],
        [
         "34",
         "34",
         "it is a habit from elementary school if i think about something i will get worried i cannot sleep",
         "Anxiety",
         "habit elementary school think worry sleep"
        ],
        [
         "35",
         "35",
         "since yesterday yesterday i have not been in the mood very sensitive feeling restless always surprised and many surprises every day that almost make my brain explode everyone is the target of ups and downs in mood but today i feel very grateful that this lecture drama is over",
         "Anxiety",
         "yesterday yesterday mood sensitive feeling restless surprised surprise day brain explode target up down mood today feel grateful lecture drama"
        ],
        [
         "36",
         "36",
         "tonight he continues to chatter about money i am so confused what to do once he said do not worry about money but he kept blabbering about money",
         "Anxiety",
         "tonight continue chatter money confused say worry money keep blabber money"
        ],
        [
         "37",
         "37",
         "feeling so restless lately",
         "Anxiety",
         "feel restless"
        ],
        [
         "38",
         "38",
         "oh god i am restless",
         "Anxiety",
         "restless"
        ],
        [
         "39",
         "39",
         "but my heart is still restless even though my mouth is talking",
         "Anxiety",
         "heart restless mouth talk"
        ],
        [
         "40",
         "40",
         "waiting for uncertainty please be anxious",
         "Anxiety",
         "wait uncertainty anxious"
        ],
        [
         "41",
         "41",
         "been the most anxious person before becoming the most sincere person",
         "Anxiety",
         "anxious person sincere person"
        ],
        [
         "42",
         "42",
         "did you ever read it when you read it to rl i mean the atmosphere the taste it is because i am like this when i read au the topic was about mental illness TM my days became restlessand now i am scared",
         "Anxiety",
         "read read mean atmosphere taste read topic mental illness day restlessand scared"
        ],
        [
         "43",
         "43",
         "hi i want to tell you lately i have been feeling restless have trouble sleeping i searched on google it says it is a mild symptom of depression i used to tell my mom a psychologist friend do not think too much it is not important you get depressed easily then i frequent irregular breathing",
         "Anxiety",
         "want tell feel restless trouble sleep search say mild symptom depression tell mom psychologist friend think important depressed frequent irregular breathing"
        ],
        [
         "44",
         "44",
         "i have been feeling restless for the past few days now i am nauseous like someone",
         "Anxiety",
         "feel restless past day nauseous"
        ],
        [
         "45",
         "45",
         "oh no i am restless the time will come i walk with jesus then my heart is calm every time i sing a song i do not know tomorrow in this section i always want to cry  because i sing it but i do not do it  sorry god i worry too much ",
         "Anxiety",
         "restless time come walk heart calm time sing song know tomorrow section want cry sing worry"
        ],
        [
         "46",
         "46",
         "controlling anxiety is not as easy as it sounds",
         "Anxiety",
         "control anxiety easy sound"
        ],
        [
         "47",
         "47",
         "since the pandemic i have not opened my laptop for a day i feel restless i have a very heavy life load",
         "Anxiety",
         "pandemic open laptop day feel restless heavy life load"
        ],
        [
         "48",
         "48",
         "people who are restless and afraid can be seen from the frequent touching of the face and ringing the fingers",
         "Anxiety",
         "people restless afraid see frequent touching face ring finger"
        ],
        [
         "49",
         "49",
         "i do not know if my mind breaks down but i do not want to think about it   why do i feel restless",
         "Anxiety",
         "know mind break want think feel restless"
        ]
       ],
       "shape": {
        "columns": 4,
        "rows": 52681
       }
      },
      "text/html": [
       "<div>\n",
       "<style scoped>\n",
       "    .dataframe tbody tr th:only-of-type {\n",
       "        vertical-align: middle;\n",
       "    }\n",
       "\n",
       "    .dataframe tbody tr th {\n",
       "        vertical-align: top;\n",
       "    }\n",
       "\n",
       "    .dataframe thead th {\n",
       "        text-align: right;\n",
       "    }\n",
       "</style>\n",
       "<table border=\"1\" class=\"dataframe\">\n",
       "  <thead>\n",
       "    <tr style=\"text-align: right;\">\n",
       "      <th></th>\n",
       "      <th>Unnamed: 0</th>\n",
       "      <th>statement</th>\n",
       "      <th>status</th>\n",
       "      <th>cleaned_statement</th>\n",
       "    </tr>\n",
       "  </thead>\n",
       "  <tbody>\n",
       "    <tr>\n",
       "      <th>0</th>\n",
       "      <td>0</td>\n",
       "      <td>oh my gosh</td>\n",
       "      <td>Anxiety</td>\n",
       "      <td></td>\n",
       "    </tr>\n",
       "    <tr>\n",
       "      <th>1</th>\n",
       "      <td>1</td>\n",
       "      <td>trouble sleeping confused mind restless heart ...</td>\n",
       "      <td>Anxiety</td>\n",
       "      <td>trouble sleep confused mind restless heart tune</td>\n",
       "    </tr>\n",
       "    <tr>\n",
       "      <th>2</th>\n",
       "      <td>2</td>\n",
       "      <td>all wrong back off dear forward doubt stay in ...</td>\n",
       "      <td>Anxiety</td>\n",
       "      <td>wrong dear doubt stay restless restless place</td>\n",
       "    </tr>\n",
       "    <tr>\n",
       "      <th>3</th>\n",
       "      <td>3</td>\n",
       "      <td>i have shifted my focus to something else but ...</td>\n",
       "      <td>Anxiety</td>\n",
       "      <td>shift focus worried</td>\n",
       "    </tr>\n",
       "    <tr>\n",
       "      <th>4</th>\n",
       "      <td>4</td>\n",
       "      <td>i am restless and restless it is been a month ...</td>\n",
       "      <td>Anxiety</td>\n",
       "      <td>restless restless month mean</td>\n",
       "    </tr>\n",
       "    <tr>\n",
       "      <th>...</th>\n",
       "      <td>...</td>\n",
       "      <td>...</td>\n",
       "      <td>...</td>\n",
       "      <td>...</td>\n",
       "    </tr>\n",
       "    <tr>\n",
       "      <th>53038</th>\n",
       "      <td>53038</td>\n",
       "      <td>nobody takes me seriously i have m dealt with ...</td>\n",
       "      <td>Anxiety</td>\n",
       "      <td>take m deal depressionanxiety year great peopl...</td>\n",
       "    </tr>\n",
       "    <tr>\n",
       "      <th>53039</th>\n",
       "      <td>53039</td>\n",
       "      <td>selfishness  i do not feel very good it is lik...</td>\n",
       "      <td>Anxiety</td>\n",
       "      <td>selfishness feel good belong world think frien...</td>\n",
       "    </tr>\n",
       "    <tr>\n",
       "      <th>53040</th>\n",
       "      <td>53040</td>\n",
       "      <td>is there any way to sleep better i cannot slee...</td>\n",
       "      <td>Anxiety</td>\n",
       "      <td>way sleep sleep night med help</td>\n",
       "    </tr>\n",
       "    <tr>\n",
       "      <th>53041</th>\n",
       "      <td>53041</td>\n",
       "      <td>public speaking tips hi all i have to give a p...</td>\n",
       "      <td>Anxiety</td>\n",
       "      <td>public speaking tip presentation work week min...</td>\n",
       "    </tr>\n",
       "    <tr>\n",
       "      <th>53042</th>\n",
       "      <td>53042</td>\n",
       "      <td>i have really bad door anxiety it is not about...</td>\n",
       "      <td>Anxiety</td>\n",
       "      <td>bad door anxiety scare lock door scared open d...</td>\n",
       "    </tr>\n",
       "  </tbody>\n",
       "</table>\n",
       "<p>52681 rows × 4 columns</p>\n",
       "</div>"
      ],
      "text/plain": [
       "       Unnamed: 0                                          statement   status  \\\n",
       "0               0                                         oh my gosh  Anxiety   \n",
       "1               1  trouble sleeping confused mind restless heart ...  Anxiety   \n",
       "2               2  all wrong back off dear forward doubt stay in ...  Anxiety   \n",
       "3               3  i have shifted my focus to something else but ...  Anxiety   \n",
       "4               4  i am restless and restless it is been a month ...  Anxiety   \n",
       "...           ...                                                ...      ...   \n",
       "53038       53038  nobody takes me seriously i have m dealt with ...  Anxiety   \n",
       "53039       53039  selfishness  i do not feel very good it is lik...  Anxiety   \n",
       "53040       53040  is there any way to sleep better i cannot slee...  Anxiety   \n",
       "53041       53041  public speaking tips hi all i have to give a p...  Anxiety   \n",
       "53042       53042  i have really bad door anxiety it is not about...  Anxiety   \n",
       "\n",
       "                                       cleaned_statement  \n",
       "0                                                         \n",
       "1        trouble sleep confused mind restless heart tune  \n",
       "2          wrong dear doubt stay restless restless place  \n",
       "3                                    shift focus worried  \n",
       "4                           restless restless month mean  \n",
       "...                                                  ...  \n",
       "53038  take m deal depressionanxiety year great peopl...  \n",
       "53039  selfishness feel good belong world think frien...  \n",
       "53040                     way sleep sleep night med help  \n",
       "53041  public speaking tip presentation work week min...  \n",
       "53042  bad door anxiety scare lock door scared open d...  \n",
       "\n",
       "[52681 rows x 4 columns]"
      ]
     },
     "execution_count": 40,
     "metadata": {},
     "output_type": "execute_result"
    }
   ],
   "source": [
    "df_copy"
   ]
  },
  {
   "cell_type": "code",
   "execution_count": 41,
   "id": "81f35693",
   "metadata": {},
   "outputs": [],
   "source": [
    "df_copy.to_csv('cleaned_data.csv', index=False)"
   ]
  },
  {
   "cell_type": "code",
   "execution_count": 2,
   "id": "b5654aeb",
   "metadata": {},
   "outputs": [
    {
     "name": "stderr",
     "output_type": "stream",
     "text": [
      "c:\\Users\\iqra khan\\AppData\\Local\\Programs\\Python\\Python312\\Lib\\site-packages\\sklearn\\base.py:380: InconsistentVersionWarning: Trying to unpickle estimator MultinomialNB from version 1.2.2 when using version 1.6.0. This might lead to breaking code or invalid results. Use at your own risk. For more info please refer to:\n",
      "https://scikit-learn.org/stable/model_persistence.html#security-maintainability-limitations\n",
      "  warnings.warn(\n",
      "c:\\Users\\iqra khan\\AppData\\Local\\Programs\\Python\\Python312\\Lib\\site-packages\\sklearn\\base.py:380: InconsistentVersionWarning: Trying to unpickle estimator TfidfTransformer from version 1.2.2 when using version 1.6.0. This might lead to breaking code or invalid results. Use at your own risk. For more info please refer to:\n",
      "https://scikit-learn.org/stable/model_persistence.html#security-maintainability-limitations\n",
      "  warnings.warn(\n"
     ]
    },
    {
     "name": "stdout",
     "output_type": "stream",
     "text": [
      "Predicted class: Depression\n"
     ]
    },
    {
     "name": "stderr",
     "output_type": "stream",
     "text": [
      "c:\\Users\\iqra khan\\AppData\\Local\\Programs\\Python\\Python312\\Lib\\site-packages\\sklearn\\base.py:380: InconsistentVersionWarning: Trying to unpickle estimator TfidfVectorizer from version 1.2.2 when using version 1.6.0. This might lead to breaking code or invalid results. Use at your own risk. For more info please refer to:\n",
      "https://scikit-learn.org/stable/model_persistence.html#security-maintainability-limitations\n",
      "  warnings.warn(\n"
     ]
    }
   ],
   "source": [
    "import joblib\n",
    "\n",
    "# Load saved model and vectorizer\n",
    "model = joblib.load(r\"C:\\Users\\iqra khan\\OneDrive\\Desktop\\MSC\\mental health classifier\\mental_health_classifier.pkl\")\n",
    "tfidf = joblib.load(r\"C:\\Users\\iqra khan\\OneDrive\\Desktop\\MSC\\mental health classifier\\tfidf_vectorizer.pkl\")\n",
    "\n",
    "# New input text (cleaned similarly)\n",
    "new_text = [\"Feeling really down and anxious today\"]\n",
    "\n",
    "# Transform new text\n",
    "X_new = tfidf.transform(new_text)\n",
    "\n",
    "# Predict\n",
    "prediction = model.predict(X_new)\n",
    "print(\"Predicted class:\", prediction[0])"
   ]
  },
  {
   "cell_type": "code",
   "execution_count": 3,
   "id": "8bf8dabd",
   "metadata": {},
   "outputs": [
    {
     "name": "stdout",
     "output_type": "stream",
     "text": [
      "['Depression']\n"
     ]
    }
   ],
   "source": [
    "print(prediction)"
   ]
  },
  {
   "cell_type": "code",
   "execution_count": null,
   "id": "94641468",
   "metadata": {},
   "outputs": [],
   "source": []
  }
 ],
 "metadata": {
  "kernelspec": {
   "display_name": "Python 3",
   "language": "python",
   "name": "python3"
  },
  "language_info": {
   "codemirror_mode": {
    "name": "ipython",
    "version": 3
   },
   "file_extension": ".py",
   "mimetype": "text/x-python",
   "name": "python",
   "nbconvert_exporter": "python",
   "pygments_lexer": "ipython3",
   "version": "3.12.1"
  }
 },
 "nbformat": 4,
 "nbformat_minor": 5
}
